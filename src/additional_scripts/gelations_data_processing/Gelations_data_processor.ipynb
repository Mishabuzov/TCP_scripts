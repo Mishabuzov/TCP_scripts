{
 "cells": [
  {
   "cell_type": "markdown",
   "metadata": {},
   "source": [
    "### Coverage data processing:"
   ]
  },
  {
   "cell_type": "code",
   "execution_count": 1,
   "metadata": {},
   "outputs": [],
   "source": [
    "import pandas as pd\n",
    "import numpy as np\n",
    "\n",
    "def process_coverage_file(raw_coverage_filename, \n",
    "                          processed_coverage_filename):\n",
    "    sudoku_df = pd.read_csv(raw_coverage_filename, sep=\" \", header=None)\n",
    "    sudoku_df = sudoku_df.iloc[:, :-1]  # remove last column\n",
    "    sudoku_df = sudoku_df[:-1] # remove last rpw\n",
    "    sudoku_df = sudoku_df.T\n",
    "\n",
    "    sudoku_data = sudoku_df.values\n",
    "\n",
    "    with open(processed_coverage_filename, \"w\") as sudoku_file:\n",
    "        sudoku_file.write(\"NameCD\\tRequirements\\n\")\n",
    "        for test_id, test_coverage_info in enumerate(sudoku_data):\n",
    "            for req_id, req_coverage in enumerate(test_coverage_info):\n",
    "                if req_coverage == 1:\n",
    "                    sudoku_file.write(f'{test_id + 1}\\t{req_id + 1}\\n') "
   ]
  },
  {
   "cell_type": "markdown",
   "metadata": {},
   "source": [
    "### Timing data processing:"
   ]
  },
  {
   "cell_type": "code",
   "execution_count": 2,
   "metadata": {},
   "outputs": [],
   "source": [
    "def process_timing_file(raw_timing_filename,\n",
    "                        processed_timing_filename):\n",
    "    sudoku_time_df = pd.read_csv(raw_timing_filename, sep=\"\\t\", header=None)\n",
    "    with open(processed_timing_filename, \"w\") as sudoku_timing_file:\n",
    "        sudoku_timing_file.write(\"NameTTD\\tTime\\n\")\n",
    "        for test_id, nano_time_value in enumerate(sudoku_time_df[1].values):\n",
    "            sudoku_timing_file.write(f'{test_id + 1}\\t{round(nano_time_value / 10**6, 1)}\\n')\n",
    "    \n",
    "    return sudoku_time_df"
   ]
  },
  {
   "cell_type": "markdown",
   "metadata": {},
   "source": [
    "### Prioritization results processing"
   ]
  },
  {
   "cell_type": "code",
   "execution_count": 3,
   "metadata": {},
   "outputs": [],
   "source": [
    "def translate_ids_to_test_names(ordered_tests_ids, \n",
    "                                time_file_df,\n",
    "                                final_test_names_file):\n",
    "    test_ids_dict = {}\n",
    "    for test_id, test_name in enumerate(time_file_df[0].values):\n",
    "        test_ids_dict[test_id + 1] = test_name\n",
    "\n",
    "    with open(final_test_names_file, \"w\") as order_file:\n",
    "        for test_id in ordered_tests_ids:\n",
    "            order_file.write(test_ids_dict[test_id] + \"\\n\")"
   ]
  },
  {
   "cell_type": "markdown",
   "metadata": {},
   "source": [
    "# Main:"
   ]
  },
  {
   "cell_type": "code",
   "execution_count": 4,
   "metadata": {},
   "outputs": [],
   "source": [
    "PROJECT_ID = \"chart\"\n",
    "\n",
    "raw_coverage_filename = f\"D4J/{PROJECT_ID}/{PROJECT_ID}_method_coverage_matrix.txt\"\n",
    "processed_coverage_filename = f\"D4J/{PROJECT_ID}/{PROJECT_ID}_gelations_method_coverage.txt\"\n",
    "\n",
    "raw_timing_filename = f\"D4J/{PROJECT_ID}/{PROJECT_ID}_id_name_mapping.txt\"\n",
    "processed_timing_filename = f\"D4J/{PROJECT_ID}/{PROJECT_ID}_gelations_timing.txt\"\n",
    "\n",
    "process_coverage_file(raw_coverage_filename, processed_coverage_filename)\n",
    "time_file_df = process_timing_file(raw_timing_filename, processed_timing_filename)"
   ]
  },
  {
   "cell_type": "code",
   "execution_count": 45,
   "metadata": {},
   "outputs": [],
   "source": [
    "# final_test_names_file = \"JT/JT_test_order\"\n",
    "# ordered_tests_ids = [201, 185, 166, 106, 38, 48, 70, 111, 7, 116, 41, 206, 30, 75, 71, 25, 182, 52, 6, 121, 200, 46, 93, 62, 118, 102, 153, 89, 170, 9, 66, 159, 165, 173, 17, 79, 100, 137, 132, 180, 176, 20, 189, 117, 88, 58, 26, 168, 90, 139, 33, 144, 14, 203, 194, 78, 96, 73, 181, 28, 104, 36, 119, 191, 99, 67, 105, 175, 2, 43, 27, 23, 164, 31, 115, 84, 163, 198, 74, 32, 184, 197, 92, 19, 5, 177, 24, 192, 196, 172, 77, 103, 101, 15, 64, 68, 85, 80, 82, 72, 205, 3, 110, 49, 54, 193, 190, 178, 109, 98, 10, 86, 69, 83, 135, 11, 87, 127, 16, 112, 57, 183, 169, 35, 50, 113, 94, 95, 149, 61, 1, 59, 22, 12, 128, 156, 187, 107, 141, 124, 131, 162, 39, 154, 130, 21, 202, 138, 155, 125, 142, 51, 195, 146, 63, 158, 76, 122, 4, 174, 134, 140, 13, 114, 186, 152, 55, 157, 97, 47, 81, 171, 34, 40, 167, 8, 108, 161, 143, 37, 91, 42, 126, 133, 18, 136, 179, 147, 65, 120, 60, 204, 160, 53, 148, 145, 45, 123, 188, 129, 29, 44, 199, 150, 56, 151]\n",
    "# translate_ids_to_test_names(ordered_tests_ids, time_file_df, final_test_names_file)"
   ]
  },
  {
   "cell_type": "code",
   "execution_count": null,
   "metadata": {},
   "outputs": [],
   "source": []
  }
 ],
 "metadata": {
  "kernelspec": {
   "display_name": "Python 3",
   "language": "python",
   "name": "python3"
  },
  "language_info": {
   "codemirror_mode": {
    "name": "ipython",
    "version": 3
   },
   "file_extension": ".py",
   "mimetype": "text/x-python",
   "name": "python",
   "nbconvert_exporter": "python",
   "pygments_lexer": "ipython3",
   "version": "3.7.4"
  }
 },
 "nbformat": 4,
 "nbformat_minor": 4
}